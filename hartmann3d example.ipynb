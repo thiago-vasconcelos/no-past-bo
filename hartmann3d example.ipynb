{
 "cells": [
  {
   "cell_type": "code",
   "execution_count": 1,
   "metadata": {},
   "outputs": [],
   "source": [
    "import numpy as np\n",
    "import GPyOpt\n",
    "import GPy\n",
    "import GPyOpt.models\n",
    "import GPyOpt.core\n",
    "\n",
    "from nopast import get_best_evaluation"
   ]
  },
  {
   "cell_type": "code",
   "execution_count": 2,
   "metadata": {},
   "outputs": [],
   "source": [
    "def hartmann3d(x):\n",
    "    x = np.atleast_2d(x)\n",
    "\n",
    "    A = np.array([[3.0, 10.0, 30.0], [0.1,10.0,35.0], [3.0, 10.0, 30.0], [0.1, 10.0, 35.0]])\n",
    "    P = np.array([[3689, 1170, 2673],[4699, 4387, 7470],[1091, 8732, 5547],[381, 5743, 8828]]) * 1e-4\n",
    "    alpha = np.array([[1.0, 1.2, 3.0, 3.2]]).T\n",
    "    \n",
    "    expTerm = np.diagonal(-1*((x[:,np.newaxis,:] - P[np.newaxis,:,:]) ** 2)@A.T, axis1=1,axis2=2)\n",
    "    \n",
    "    ret = -1*(np.exp(expTerm)@alpha)\n",
    "    \n",
    "    return ret\n",
    "\n",
    "mixed_domain =[{'name': 'var1', 'type': 'continuous', 'domain': (0,1)},\n",
    "               {'name': 'var2', 'type': 'continuous', 'domain': (0,1)},\n",
    "               {'name': 'var3', 'type': 'continuous', 'domain': (0,1)}]\n",
    "space = GPyOpt.Design_space(mixed_domain)"
   ]
  },
  {
   "cell_type": "code",
   "execution_count": 3,
   "metadata": {},
   "outputs": [],
   "source": [
    "acquisitions = [\n",
    "    {\n",
    "        'type': 'ei',\n",
    "        'epsilon': 1e-2\n",
    "    },\n",
    "    {\n",
    "        'type': 'pi',\n",
    "        'epsilon': 1e-2\n",
    "    },\n",
    "    {\n",
    "        'type': 'lcb',\n",
    "        'upsilon': 0.2,\n",
    "        'delta': 0.1\n",
    "    },\n",
    "]"
   ]
  },
  {
   "cell_type": "code",
   "execution_count": 4,
   "metadata": {},
   "outputs": [],
   "source": [
    "X_init = np.array([[0.5, 0.5, 0.5], [0.25, 0.25, 0.25],[0.75, 0.75, 0.75]])\n",
    "y_init = hartmann3d(X_init)"
   ]
  },
  {
   "cell_type": "code",
   "execution_count": 9,
   "metadata": {},
   "outputs": [],
   "source": [
    "evaluations, scores = get_best_evaluation(X_init, y_init, space, acquisitions, hartmann3d, factor=0.7, iterations=10, eta=4)"
   ]
  },
  {
   "cell_type": "code",
   "execution_count": 10,
   "metadata": {},
   "outputs": [
    {
     "data": {
      "text/plain": [
       "array([[ 0.5       ,  0.5       ,  0.5       , -0.62802202],\n",
       "       [ 0.25      ,  0.25      ,  0.25      , -0.7996378 ],\n",
       "       [ 0.75      ,  0.75      ,  0.75      , -1.89605115],\n",
       "       [ 0.78975499,  0.75727933,  0.89890343, -2.35484043],\n",
       "       [ 0.74260799,  0.74950753,  0.76329168, -2.01739138],\n",
       "       [ 0.75136849,  0.85684889,  0.7397246 , -1.18623933],\n",
       "       [ 0.75183117,  0.75346942,  0.74948335, -1.86736012],\n",
       "       [ 0.75997014,  0.7460527 ,  0.75214213, -1.92888106],\n",
       "       [ 0.75203377,  0.72087785,  0.74881332, -2.06779769],\n",
       "       [ 0.750273  ,  0.77432827,  0.78547303, -1.99030043],\n",
       "       [ 0.76603129,  0.75215461,  0.76243074, -1.96822424],\n",
       "       [ 0.80104902,  0.75214976,  0.7498625 , -1.82618266],\n",
       "       [ 0.86603955,  0.75146961,  0.75909642, -1.8520717 ]])"
      ]
     },
     "execution_count": 10,
     "metadata": {},
     "output_type": "execute_result"
    }
   ],
   "source": [
    "evaluations"
   ]
  },
  {
   "cell_type": "code",
   "execution_count": 11,
   "metadata": {},
   "outputs": [
    {
     "data": {
      "text/plain": [
       "[array([1.94715567, 2.32703795, 1.59580642]),\n",
       " array([2.95316507, 4.06689208, 2.65664372]),\n",
       " array([3.56721605, 4.38365508, 3.34001047]),\n",
       " array([4.81362315, 5.46402224, 4.22907766]),\n",
       " array([4.95434084, 6.13464606, 4.54550508]),\n",
       " array([5.70611003, 6.73276881, 4.99757719]),\n",
       " array([5.66837013, 6.79001074, 5.01595196]),\n",
       " array([5.66836946, 7.10576784, 5.21158297]),\n",
       " array([6.09373031, 7.4018292 , 5.77880791]),\n",
       " array([6.38721413, 7.59379692, 6.17142056])]"
      ]
     },
     "execution_count": 11,
     "metadata": {},
     "output_type": "execute_result"
    }
   ],
   "source": [
    "scores"
   ]
  },
  {
   "cell_type": "code",
   "execution_count": null,
   "metadata": {},
   "outputs": [],
   "source": []
  }
 ],
 "metadata": {
  "kernelspec": {
   "display_name": "Python 3",
   "language": "python",
   "name": "python3"
  },
  "language_info": {
   "codemirror_mode": {
    "name": "ipython",
    "version": 3
   },
   "file_extension": ".py",
   "mimetype": "text/x-python",
   "name": "python",
   "nbconvert_exporter": "python",
   "pygments_lexer": "ipython3",
   "version": "3.7.3"
  }
 },
 "nbformat": 4,
 "nbformat_minor": 2
}
